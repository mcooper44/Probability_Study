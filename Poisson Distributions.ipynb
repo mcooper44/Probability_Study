{
 "cells": [
  {
   "cell_type": "markdown",
   "id": "c5955232",
   "metadata": {},
   "source": [
    "You are in charge of monitoring the number of defective products from a specific factory. You’ve been told that the number of defects on a given day follows the Poisson distribution with the rate parameter (lambda) equal to 7. You’re new here, so you want to get a feel for what it means to follow the Poisson(7) distribution. You remember that the Poisson distribution is special because the rate parameter represents the expected value of the distribution, so in this case, the expected value of the Poisson(7) distribution is 7 defects per day.\n",
    "\n",
    "You will investigate certain attributes of the Poisson(7) distribution to get an intuition for how many defective objects you should expect to see in a given amount of time. You will also practice and apply what you know about the Poisson distribution on a practice data set that you will simulate yourself."
   ]
  },
  {
   "cell_type": "markdown",
   "id": "602e7b1b",
   "metadata": {},
   "source": [
    "(This is an assignment from Code Academy's Fundamental Math for Data Science)"
   ]
  },
  {
   "cell_type": "code",
   "execution_count": 1,
   "id": "bda72751",
   "metadata": {},
   "outputs": [],
   "source": [
    "import scipy.stats as stats\n",
    "import numpy as np"
   ]
  },
  {
   "cell_type": "markdown",
   "id": "c1ac3151",
   "metadata": {},
   "source": [
    "You know that the rate parameter of a Poisson distribution is equal to the expected value. So in our factory, the rate parameter would equal the expected number of defects on a given day. You are curious about how often we might observe the exact expected number of defects.\n",
    "\n",
    "Calculate and print the probability of observing exactly lam defects on a given day.\n"
   ]
  },
  {
   "cell_type": "code",
   "execution_count": 2,
   "id": "53f2ff7d",
   "metadata": {},
   "outputs": [],
   "source": [
    "lam = 7 # lambda of 7"
   ]
  },
  {
   "cell_type": "code",
   "execution_count": 3,
   "id": "e233445a",
   "metadata": {},
   "outputs": [
    {
     "data": {
      "text/plain": [
       "0.14900277967433773"
      ]
     },
     "execution_count": 3,
     "metadata": {},
     "output_type": "execute_result"
    }
   ],
   "source": [
    "stats.poisson.pmf(lam, lam)"
   ]
  },
  {
   "cell_type": "markdown",
   "id": "6ed37b06",
   "metadata": {},
   "source": [
    "Our boss said that having 4 or fewer defects on a given day is an exceptionally good day. You are curious about how often that might happen.\n",
    "\n",
    "Calculate and print the probability of having one of these days.\n"
   ]
  },
  {
   "cell_type": "code",
   "execution_count": 4,
   "id": "3252d50c",
   "metadata": {},
   "outputs": [
    {
     "data": {
      "text/plain": [
       "0.09122619163734964"
      ]
     },
     "execution_count": 4,
     "metadata": {},
     "output_type": "execute_result"
    }
   ],
   "source": [
    "stats.poisson.pmf(4, lam)"
   ]
  },
  {
   "cell_type": "markdown",
   "id": "d1dc50d4",
   "metadata": {},
   "source": [
    "On the other hand, our boss said that having more than 9 defects on any given day is considered a bad day.\n",
    "\n",
    "Calculate and print the probability of having one of these bad days"
   ]
  },
  {
   "cell_type": "code",
   "execution_count": 5,
   "id": "f244cabe",
   "metadata": {},
   "outputs": [
    {
     "data": {
      "text/plain": [
       "0.898595330499409"
      ]
     },
     "execution_count": 5,
     "metadata": {},
     "output_type": "execute_result"
    }
   ],
   "source": [
    "1 - stats.poisson.pmf(9, lam)"
   ]
  },
  {
   "cell_type": "markdown",
   "id": "70d05690",
   "metadata": {},
   "source": [
    "You’ve familiarized yourself a little bit about how the Poisson distribution works in theory by calculating different probabilities. But let’s look at what this might look like in practice.\n",
    "\n",
    "Create a variable called year_defects that has 365 random values from the Poisson distribution.\n"
   ]
  },
  {
   "cell_type": "code",
   "execution_count": 6,
   "id": "c755ede1",
   "metadata": {},
   "outputs": [],
   "source": [
    "year_defects = stats.poisson.rvs(lam, size = 356)"
   ]
  },
  {
   "cell_type": "code",
   "execution_count": 7,
   "id": "e256ac0c",
   "metadata": {},
   "outputs": [
    {
     "data": {
      "text/plain": [
       "array([10,  7,  5,  7,  5,  9,  3,  7,  4,  7, 11,  5, 14,  5,  9,  6, 10,\n",
       "        7,  6,  4])"
      ]
     },
     "execution_count": 7,
     "metadata": {},
     "output_type": "execute_result"
    }
   ],
   "source": [
    "year_defects[0:20]"
   ]
  },
  {
   "cell_type": "markdown",
   "id": "ab8f0370",
   "metadata": {},
   "source": [
    "If we expect 7 defects on a given day, what is the total number of defects we would expect over 365 days?\n",
    "\n",
    "Calculate and print this value to the output terminal."
   ]
  },
  {
   "cell_type": "code",
   "execution_count": 8,
   "id": "d7decbc4",
   "metadata": {},
   "outputs": [
    {
     "data": {
      "text/plain": [
       "2555"
      ]
     },
     "execution_count": 8,
     "metadata": {},
     "output_type": "execute_result"
    }
   ],
   "source": [
    "lam*365"
   ]
  },
  {
   "cell_type": "markdown",
   "id": "a3a2ae88",
   "metadata": {},
   "source": [
    "Calculate and print the total sum of the data set year_defects. How does this compare to the total number of defects we expected over 365 days?"
   ]
  },
  {
   "cell_type": "code",
   "execution_count": 9,
   "id": "f492e7e4",
   "metadata": {},
   "outputs": [
    {
     "data": {
      "text/plain": [
       "2495"
      ]
     },
     "execution_count": 9,
     "metadata": {},
     "output_type": "execute_result"
    }
   ],
   "source": [
    "sum(year_defects)"
   ]
  },
  {
   "cell_type": "markdown",
   "id": "94bf2b05",
   "metadata": {},
   "source": [
    "Calculate and print the average number of defects per day from our simulated dataset.\n",
    "\n",
    "How does this compare to the expected average number of defects each day that we know from the given rate parameter of the Poisson distribution?\n"
   ]
  },
  {
   "cell_type": "code",
   "execution_count": 10,
   "id": "ec95d6fd",
   "metadata": {},
   "outputs": [
    {
     "data": {
      "text/plain": [
       "7.008426966292135"
      ]
     },
     "execution_count": 10,
     "metadata": {},
     "output_type": "execute_result"
    }
   ],
   "source": [
    "np.mean(year_defects)"
   ]
  },
  {
   "cell_type": "markdown",
   "id": "67757869",
   "metadata": {},
   "source": [
    "You’re worried about what the highest amount of defects in a single day might be because that would be a hectic day.\n",
    "\n",
    "Print the maximum value of year_defects.\n"
   ]
  },
  {
   "cell_type": "code",
   "execution_count": 11,
   "id": "73d33bd3",
   "metadata": {},
   "outputs": [
    {
     "data": {
      "text/plain": [
       "14"
      ]
     },
     "execution_count": 11,
     "metadata": {},
     "output_type": "execute_result"
    }
   ],
   "source": [
    "year_defects.max()"
   ]
  },
  {
   "cell_type": "markdown",
   "id": "c0ade315",
   "metadata": {},
   "source": [
    "Wow, it would probably be super busy if there were that many defects on a single day. Hopefully, it is a rare event!\n",
    "\n",
    "Calculate and print the probability of observing that maximum value or more from the Poisson(7) distribution.\n"
   ]
  },
  {
   "cell_type": "code",
   "execution_count": 13,
   "id": "7f895a3b",
   "metadata": {},
   "outputs": [
    {
     "data": {
      "text/plain": [
       "0.005717202492495965"
      ]
     },
     "execution_count": 13,
     "metadata": {},
     "output_type": "execute_result"
    }
   ],
   "source": [
    "1 - stats.poisson.cdf(year_defects.max(), lam)"
   ]
  },
  {
   "cell_type": "markdown",
   "id": "5af0d5b1",
   "metadata": {},
   "source": [
    "Let’s say we want to know how many defects in a given day would put us in the 90th percentile of the Poisson(7) distribution. One way we could calculate this is by using the following method:"
   ]
  },
  {
   "cell_type": "code",
   "execution_count": 14,
   "id": "f85d2c60",
   "metadata": {},
   "outputs": [
    {
     "data": {
      "text/plain": [
       "10.0"
      ]
     },
     "execution_count": 14,
     "metadata": {},
     "output_type": "execute_result"
    }
   ],
   "source": [
    "stats.poisson.ppf(0.9, lam)"
   ]
  },
  {
   "cell_type": "markdown",
   "id": "f5fc015d",
   "metadata": {},
   "source": [
    "Use this method to calculate and print the number of defects that would put us in the 90th percentile for a given day. In other words, on 90% of days, we will observe fewer defects than this number."
   ]
  },
  {
   "cell_type": "markdown",
   "id": "ded8d095",
   "metadata": {},
   "source": [
    "Now let’s see what proportion of our simulated dataset year_defects is greater than or equal to the number we calculated in the previous step.\n",
    "\n",
    "By definition of a percentile, we would expect 1 - .90, or about 10% of days to be in this range.\n",
    "\n",
    "To calculate this:\n",
    "* Count the number of values in the dataset that are greater than or equal to the 90th percentile value.\n",
    "* Divide this number by the length of the dataset.\n"
   ]
  },
  {
   "cell_type": "code",
   "execution_count": 15,
   "id": "533b4646",
   "metadata": {},
   "outputs": [
    {
     "data": {
      "text/plain": [
       "0.17134831460674158"
      ]
     },
     "execution_count": 15,
     "metadata": {},
     "output_type": "execute_result"
    }
   ],
   "source": [
    "sum(year_defects >= stats.poisson.ppf(0.9, lam))/len(year_defects)"
   ]
  },
  {
   "cell_type": "code",
   "execution_count": null,
   "id": "2450dc46",
   "metadata": {},
   "outputs": [],
   "source": []
  }
 ],
 "metadata": {
  "kernelspec": {
   "display_name": "Python 3 (ipykernel)",
   "language": "python",
   "name": "python3"
  },
  "language_info": {
   "codemirror_mode": {
    "name": "ipython",
    "version": 3
   },
   "file_extension": ".py",
   "mimetype": "text/x-python",
   "name": "python",
   "nbconvert_exporter": "python",
   "pygments_lexer": "ipython3",
   "version": "3.9.12"
  }
 },
 "nbformat": 4,
 "nbformat_minor": 5
}
