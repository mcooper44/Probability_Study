{
 "cells": [
  {
   "cell_type": "code",
   "execution_count": 8,
   "id": "9a721180",
   "metadata": {},
   "outputs": [],
   "source": [
    "import scipy.stats as stats\n",
    "import numpy as np\n",
    "import matplotlib.pyplot as plt"
   ]
  },
  {
   "cell_type": "markdown",
   "id": "e720b577",
   "metadata": {},
   "source": [
    "## Statistical Techniques in Business and Economics 10th edition"
   ]
  },
  {
   "cell_type": "markdown",
   "id": "ae87d1d1",
   "metadata": {},
   "source": [
    "### Chapter Six\n",
    "##### Discrete Probability Distributions Page 190->193"
   ]
  },
  {
   "cell_type": "markdown",
   "id": "67427c1c",
   "metadata": {},
   "source": [
    "John sells new cars for Pelican Ford.  John usually sells the largest number of cars on Saturday.  They have established the following probability distribution for the number of cars they expect to sell on a particular Saturday."
   ]
  },
  {
   "cell_type": "code",
   "execution_count": 4,
   "id": "ac5529c4",
   "metadata": {},
   "outputs": [],
   "source": [
    "xk = np.arange(5)\n",
    "pk = (0.1, 0.2, 0.3, 0.3, 0.1)\n",
    "\n",
    "custm = stats.rv_discrete(name='p190', values=(xk, pk))"
   ]
  },
  {
   "cell_type": "code",
   "execution_count": 5,
   "id": "68943425",
   "metadata": {},
   "outputs": [
    {
     "data": {
      "image/png": "[encoded data removed]",
      "text/plain": [
       "<Figure size 432x288 with 1 Axes>"
      ]
     },
     "metadata": {
      "needs_background": "light"
     },
     "output_type": "display_data"
    }
   ],
   "source": [
    "fig, ax = plt.subplots(1, 1)\n",
    "ax.plot(xk, custm.pmf(xk), 'ro', ms=12, mec='r')\n",
    "ax.vlines(xk, 0, custm.pmf(xk), colors='r', lw=4)\n",
    "plt.show()"
   ]
  },
  {
   "cell_type": "markdown",
   "id": "0c346c6e",
   "metadata": {},
   "source": [
    "1. What type of distribution is this?\n",
    "2. On a typical Saturday, how many cars should John expect to sell?\n",
    "3. What is the variance of this distribution?"
   ]
  },
  {
   "cell_type": "markdown",
   "id": "1ea935cc",
   "metadata": {},
   "source": [
    "1. This is a discrete probability distribution.  John expects to sell within a certain range; they do not expect to sell 5 cars for 50 cars.  Further, they cannot sell half a car.  They only sell 0, 1, 2, 3, or 4 cars and cannot expect to sell both 3 and 4 cars on the same day."
   ]
  },
  {
   "cell_type": "markdown",
   "id": "0499273e",
   "metadata": {},
   "source": [
    "2. How many should John expect to sell?\n",
    "\n",
    "$ \\mu = E(x) = \\sum[xP(x)] $"
   ]
  },
  {
   "cell_type": "code",
   "execution_count": 6,
   "id": "61637907",
   "metadata": {},
   "outputs": [
    {
     "data": {
      "text/plain": [
       "2.1"
      ]
     },
     "execution_count": 6,
     "metadata": {},
     "output_type": "execute_result"
    }
   ],
   "source": [
    "# on a typical Saturday\n",
    "typical = custm.mean()\n",
    "typical"
   ]
  },
  {
   "cell_type": "markdown",
   "id": "3daf16b9",
   "metadata": {},
   "source": [
    "2. What is the variance of this distribution?\n",
    "\n",
    "$ variance = (x-\\mu)^2P(x) $\n",
    "\n",
    "or \n",
    "\n",
    "$ \\sigma^2 = \\sum x^2P(x) - \\mu^2 $"
   ]
  },
  {
   "cell_type": "code",
   "execution_count": 7,
   "id": "9c7c4e26",
   "metadata": {},
   "outputs": [
    {
     "data": {
      "text/plain": [
       "1.2899999999999991"
      ]
     },
     "execution_count": 7,
     "metadata": {},
     "output_type": "execute_result"
    }
   ],
   "source": [
    "sales_var = custm.var()\n",
    "sales_var"
   ]
  },
  {
   "cell_type": "markdown",
   "id": "16af3637",
   "metadata": {},
   "source": [
    "### Exercises p192"
   ]
  },
  {
   "cell_type": "markdown",
   "id": "cb49019b",
   "metadata": {},
   "source": [
    "1. compute the meand and variance of the following discrete probability distribution.\n",
    "\n",
    "<table>\n",
    "<tr>\n",
    "    <th>x</th>\n",
    "    <th>P(x)</th>\n",
    "</tr>\n",
    "\n",
    "<tr>\n",
    "    <td>0</td> \n",
    "    <td>.2</td> \n",
    "</tr>\n",
    "\n",
    "<tr>\n",
    "    <td>1</td> \n",
    "    <td>.4</td> \n",
    "</tr>\n",
    "\n",
    "<tr>\n",
    "    <td>2</td> \n",
    "    <td>.3</td> \n",
    "</tr>\n",
    "    \n",
    "<tr>\n",
    "    <td>3</td> \n",
    "    <td>.1</td> \n",
    "</tr>\n",
    "</table>"
   ]
  },
  {
   "cell_type": "code",
   "execution_count": 10,
   "id": "0bf18375",
   "metadata": {},
   "outputs": [],
   "source": [
    "ex1r = np.arange(4)\n",
    "ex1d = (0.2, 0.4, 0.3, 0.1)\n",
    "\n",
    "ex1a = stats.rv_discrete(name='ex1answer', values=(ex1r, ex1d))"
   ]
  },
  {
   "cell_type": "code",
   "execution_count": 11,
   "id": "934cf640",
   "metadata": {},
   "outputs": [
    {
     "data": {
      "text/plain": [
       "1.3"
      ]
     },
     "execution_count": 11,
     "metadata": {},
     "output_type": "execute_result"
    }
   ],
   "source": [
    "ex1_mean = ex1a.mean()\n",
    "ex1_mean"
   ]
  },
  {
   "cell_type": "code",
   "execution_count": 12,
   "id": "42d2d70b",
   "metadata": {},
   "outputs": [
    {
     "data": {
      "text/plain": [
       "0.8099999999999998"
      ]
     },
     "execution_count": 12,
     "metadata": {},
     "output_type": "execute_result"
    }
   ],
   "source": [
    "ex1_var = ex1a.var()\n",
    "ex1_var"
   ]
  },
  {
   "cell_type": "code",
   "execution_count": null,
   "id": "7671ac8e",
   "metadata": {},
   "outputs": [],
   "source": []
  }
 ],
 "metadata": {
  "kernelspec": {
   "display_name": "Python 3 (ipykernel)",
   "language": "python",
   "name": "python3"
  },
  "language_info": {
   "codemirror_mode": {
    "name": "ipython",
    "version": 3
   },
   "file_extension": ".py",
   "mimetype": "text/x-python",
   "name": "python",
   "nbconvert_exporter": "python",
   "pygments_lexer": "ipython3",
   "version": "3.9.12"
  }
 },
 "nbformat": 4,
 "nbformat_minor": 5
}
