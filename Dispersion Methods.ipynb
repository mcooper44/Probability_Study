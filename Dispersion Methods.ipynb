{
 "cells": [
  {
   "cell_type": "markdown",
   "id": "4f6cca37",
   "metadata": {},
   "source": [
    "from Statistical Techniques in Business and Economics 10th ed. Mason, Lind, Marchal"
   ]
  },
  {
   "cell_type": "code",
   "execution_count": 39,
   "id": "88f01689",
   "metadata": {},
   "outputs": [],
   "source": [
    "import pandas as pd\n",
    "import matplotlib.pyplot as plt"
   ]
  },
  {
   "cell_type": "markdown",
   "id": "bfc6e7bb",
   "metadata": {},
   "source": [
    "p119"
   ]
  },
  {
   "cell_type": "markdown",
   "id": "7085a076",
   "metadata": {},
   "source": [
    "35. Determine the median and the first and third quartiles in the following data"
   ]
  },
  {
   "cell_type": "code",
   "execution_count": 40,
   "id": "5e70894d",
   "metadata": {},
   "outputs": [],
   "source": [
    "q35_data = pd.DataFrame([46, 47, 49, 49, 51, 53, 54, 54, 55, 55, 59])"
   ]
  },
  {
   "cell_type": "code",
   "execution_count": 41,
   "id": "49c337fa",
   "metadata": {},
   "outputs": [
    {
     "data": {
      "text/html": [
       "<div>\n",
       "<style scoped>\n",
       "    .dataframe tbody tr th:only-of-type {\n",
       "        vertical-align: middle;\n",
       "    }\n",
       "\n",
       "    .dataframe tbody tr th {\n",
       "        vertical-align: top;\n",
       "    }\n",
       "\n",
       "    .dataframe thead th {\n",
       "        text-align: right;\n",
       "    }\n",
       "</style>\n",
       "<table border=\"1\" class=\"dataframe\">\n",
       "  <thead>\n",
       "    <tr style=\"text-align: right;\">\n",
       "      <th></th>\n",
       "      <th>0</th>\n",
       "    </tr>\n",
       "  </thead>\n",
       "  <tbody>\n",
       "    <tr>\n",
       "      <th>0.25</th>\n",
       "      <td>49.0</td>\n",
       "    </tr>\n",
       "    <tr>\n",
       "      <th>0.75</th>\n",
       "      <td>54.5</td>\n",
       "    </tr>\n",
       "  </tbody>\n",
       "</table>\n",
       "</div>"
      ],
      "text/plain": [
       "         0\n",
       "0.25  49.0\n",
       "0.75  54.5"
      ]
     },
     "execution_count": 41,
     "metadata": {},
     "output_type": "execute_result"
    }
   ],
   "source": [
    "q35_data.quantile([0.25, 0.75])"
   ]
  },
  {
   "cell_type": "markdown",
   "id": "6cbd6b89",
   "metadata": {},
   "source": [
    "what is the median value?"
   ]
  },
  {
   "cell_type": "code",
   "execution_count": 42,
   "id": "af845065",
   "metadata": {},
   "outputs": [
    {
     "data": {
      "text/plain": [
       "0    53.0\n",
       "dtype: float64"
      ]
     },
     "execution_count": 42,
     "metadata": {},
     "output_type": "execute_result"
    }
   ],
   "source": [
    "q35_data.median()"
   ]
  },
  {
   "cell_type": "markdown",
   "id": "a1604a78",
   "metadata": {},
   "source": [
    "What is the first decile, the median, the 8th decile and 67th percentile?"
   ]
  },
  {
   "cell_type": "code",
   "execution_count": 43,
   "id": "4964ee32",
   "metadata": {},
   "outputs": [
    {
     "data": {
      "text/html": [
       "<div>\n",
       "<style scoped>\n",
       "    .dataframe tbody tr th:only-of-type {\n",
       "        vertical-align: middle;\n",
       "    }\n",
       "\n",
       "    .dataframe tbody tr th {\n",
       "        vertical-align: top;\n",
       "    }\n",
       "\n",
       "    .dataframe thead th {\n",
       "        text-align: right;\n",
       "    }\n",
       "</style>\n",
       "<table border=\"1\" class=\"dataframe\">\n",
       "  <thead>\n",
       "    <tr style=\"text-align: right;\">\n",
       "      <th></th>\n",
       "      <th>0</th>\n",
       "    </tr>\n",
       "  </thead>\n",
       "  <tbody>\n",
       "    <tr>\n",
       "      <th>0.10</th>\n",
       "      <td>47.0</td>\n",
       "    </tr>\n",
       "    <tr>\n",
       "      <th>0.50</th>\n",
       "      <td>53.0</td>\n",
       "    </tr>\n",
       "    <tr>\n",
       "      <th>0.67</th>\n",
       "      <td>54.0</td>\n",
       "    </tr>\n",
       "    <tr>\n",
       "      <th>0.80</th>\n",
       "      <td>55.0</td>\n",
       "    </tr>\n",
       "  </tbody>\n",
       "</table>\n",
       "</div>"
      ],
      "text/plain": [
       "         0\n",
       "0.10  47.0\n",
       "0.50  53.0\n",
       "0.67  54.0\n",
       "0.80  55.0"
      ]
     },
     "execution_count": 43,
     "metadata": {},
     "output_type": "execute_result"
    }
   ],
   "source": [
    "q35_data.quantile([0.1, 0.5, 0.67, 0.8])"
   ]
  },
  {
   "cell_type": "code",
   "execution_count": 44,
   "id": "015ba606",
   "metadata": {},
   "outputs": [
    {
     "data": {
      "text/html": [
       "<div>\n",
       "<style scoped>\n",
       "    .dataframe tbody tr th:only-of-type {\n",
       "        vertical-align: middle;\n",
       "    }\n",
       "\n",
       "    .dataframe tbody tr th {\n",
       "        vertical-align: top;\n",
       "    }\n",
       "\n",
       "    .dataframe thead th {\n",
       "        text-align: right;\n",
       "    }\n",
       "</style>\n",
       "<table border=\"1\" class=\"dataframe\">\n",
       "  <thead>\n",
       "    <tr style=\"text-align: right;\">\n",
       "      <th></th>\n",
       "      <th>0</th>\n",
       "    </tr>\n",
       "  </thead>\n",
       "  <tbody>\n",
       "    <tr>\n",
       "      <th>count</th>\n",
       "      <td>11.000000</td>\n",
       "    </tr>\n",
       "    <tr>\n",
       "      <th>mean</th>\n",
       "      <td>52.000000</td>\n",
       "    </tr>\n",
       "    <tr>\n",
       "      <th>std</th>\n",
       "      <td>3.949684</td>\n",
       "    </tr>\n",
       "    <tr>\n",
       "      <th>min</th>\n",
       "      <td>46.000000</td>\n",
       "    </tr>\n",
       "    <tr>\n",
       "      <th>25%</th>\n",
       "      <td>49.000000</td>\n",
       "    </tr>\n",
       "    <tr>\n",
       "      <th>50%</th>\n",
       "      <td>53.000000</td>\n",
       "    </tr>\n",
       "    <tr>\n",
       "      <th>75%</th>\n",
       "      <td>54.500000</td>\n",
       "    </tr>\n",
       "    <tr>\n",
       "      <th>max</th>\n",
       "      <td>59.000000</td>\n",
       "    </tr>\n",
       "  </tbody>\n",
       "</table>\n",
       "</div>"
      ],
      "text/plain": [
       "               0\n",
       "count  11.000000\n",
       "mean   52.000000\n",
       "std     3.949684\n",
       "min    46.000000\n",
       "25%    49.000000\n",
       "50%    53.000000\n",
       "75%    54.500000\n",
       "max    59.000000"
      ]
     },
     "execution_count": 44,
     "metadata": {},
     "output_type": "execute_result"
    }
   ],
   "source": [
    "q35_data.describe()"
   ]
  },
  {
   "cell_type": "markdown",
   "id": "2a9af9cd",
   "metadata": {},
   "source": [
    "p123 "
   ]
  },
  {
   "cell_type": "markdown",
   "id": "13af75a9",
   "metadata": {},
   "source": [
    "Q 41. In a study of the mileage of cars manufactured in 97, the mean number of miles per gallon was 27.5 and the median was 26.8.  The smallest value in the study was 12.70 mpg and the largest was 50.20.  The first and third quartiles were 17.95 and 35.45 mpg respectively. Develop a box plot and comment on the distribution.  Is it a symmetric distribution?"
   ]
  },
  {
   "cell_type": "code",
   "execution_count": 45,
   "id": "d475ba10",
   "metadata": {},
   "outputs": [
    {
     "data": {
      "text/plain": [
       "{'whiskers': [<matplotlib.lines.Line2D at 0x733fa5f81190>,\n",
       "  <matplotlib.lines.Line2D at 0x733fa5f80920>],\n",
       " 'caps': [<matplotlib.lines.Line2D at 0x733fa5f817f0>,\n",
       "  <matplotlib.lines.Line2D at 0x733fa5f81ac0>],\n",
       " 'boxes': [<matplotlib.lines.Line2D at 0x733fa5f80e60>],\n",
       " 'medians': [<matplotlib.lines.Line2D at 0x733fa5f81dc0>],\n",
       " 'fliers': [<matplotlib.lines.Line2D at 0x733fa5f823f0>],\n",
       " 'means': []}"
      ]
     },
     "execution_count": 45,
     "metadata": {},
     "output_type": "execute_result"
    },
    {
     "data": {
      "image/png": "[encoded data removed]",
      "text/plain": [
       "<Figure size 640x480 with 1 Axes>"
      ]
     },
     "metadata": {},
     "output_type": "display_data"
    }
   ],
   "source": [
    "median = 26.8\n",
    "perc_25 = 17.95\n",
    "perc_75 = 35.45\n",
    "\n",
    "bxpstats = [{'whishi': 50.20,\n",
    "             'whislo': 12.70,\n",
    "             'fliers': [],\n",
    "             'q1': perc_25,\n",
    "             'med': median,\n",
    "             'q3': perc_75}]\n",
    "\n",
    "ax = plt.subplot()\n",
    "ax.bxp(bxpstats)"
   ]
  },
  {
   "cell_type": "markdown",
   "id": "c1c04aaf",
   "metadata": {},
   "source": [
    "It is positively skewed"
   ]
  },
  {
   "cell_type": "markdown",
   "id": "945b817d",
   "metadata": {},
   "source": [
    "43. A sample of 28 Hospitals revealed the following charges for a room.  Construct a box plot and comment on the distribution."
   ]
  },
  {
   "cell_type": "code",
   "execution_count": 46,
   "id": "8a019926",
   "metadata": {},
   "outputs": [],
   "source": [
    "cost_list = [116, 121, 157, 192, 207, 209, 209, 229, \n",
    "         232, 236, 236, 239, 243, 246, 260, 264, \n",
    "         276, 281, 283, 289, 296, 307, 309, 312, 317,\n",
    "        324, 341, 353]\n",
    "costs = pd.DataFrame(cost_list) # in dollars"
   ]
  },
  {
   "cell_type": "code",
   "execution_count": 47,
   "id": "b9ffb611",
   "metadata": {},
   "outputs": [
    {
     "data": {
      "text/html": [
       "<div>\n",
       "<style scoped>\n",
       "    .dataframe tbody tr th:only-of-type {\n",
       "        vertical-align: middle;\n",
       "    }\n",
       "\n",
       "    .dataframe tbody tr th {\n",
       "        vertical-align: top;\n",
       "    }\n",
       "\n",
       "    .dataframe thead th {\n",
       "        text-align: right;\n",
       "    }\n",
       "</style>\n",
       "<table border=\"1\" class=\"dataframe\">\n",
       "  <thead>\n",
       "    <tr style=\"text-align: right;\">\n",
       "      <th></th>\n",
       "      <th>0</th>\n",
       "    </tr>\n",
       "  </thead>\n",
       "  <tbody>\n",
       "    <tr>\n",
       "      <th>0.25</th>\n",
       "      <td>224.00</td>\n",
       "    </tr>\n",
       "    <tr>\n",
       "      <th>0.50</th>\n",
       "      <td>253.00</td>\n",
       "    </tr>\n",
       "    <tr>\n",
       "      <th>0.75</th>\n",
       "      <td>298.75</td>\n",
       "    </tr>\n",
       "  </tbody>\n",
       "</table>\n",
       "</div>"
      ],
      "text/plain": [
       "           0\n",
       "0.25  224.00\n",
       "0.50  253.00\n",
       "0.75  298.75"
      ]
     },
     "execution_count": 47,
     "metadata": {},
     "output_type": "execute_result"
    }
   ],
   "source": [
    "costs.quantile([.25, .5, .75])"
   ]
  },
  {
   "cell_type": "code",
   "execution_count": 48,
   "id": "e7408db3",
   "metadata": {},
   "outputs": [
    {
     "data": {
      "text/plain": [
       "<AxesSubplot: >"
      ]
     },
     "execution_count": 48,
     "metadata": {},
     "output_type": "execute_result"
    },
    {
     "data": {
      "image/png": "[encoded data removed]",
      "text/plain": [
       "<Figure size 640x480 with 1 Axes>"
      ]
     },
     "metadata": {},
     "output_type": "display_data"
    }
   ],
   "source": [
    "costs.boxplot()"
   ]
  },
  {
   "cell_type": "code",
   "execution_count": 49,
   "id": "c758f7c6",
   "metadata": {},
   "outputs": [
    {
     "data": {
      "text/plain": [
       "0   -0.585425\n",
       "dtype: float64"
      ]
     },
     "execution_count": 49,
     "metadata": {},
     "output_type": "execute_result"
    }
   ],
   "source": [
    "costs.skew()"
   ]
  },
  {
   "cell_type": "markdown",
   "id": "4426f569",
   "metadata": {},
   "source": [
    "The distribution is negatively skewed"
   ]
  },
  {
   "cell_type": "markdown",
   "id": "5e0d3d46",
   "metadata": {},
   "source": [
    "Chapter Excercise data"
   ]
  },
  {
   "cell_type": "code",
   "execution_count": 50,
   "id": "1d5667f1",
   "metadata": {},
   "outputs": [],
   "source": [
    "c4_data = {'Line 1': [238.1, 240.0, 241.5, 3.0, 1.9, 1.0], \n",
    "           'Line 2': [240.0, 240.0, 240.0, 0.4, 0.2, 0.1],\n",
    "           'Line 3': [242.9, 240.0, 239.1, 3.9, 2.2, 1.7]}\n",
    "c4_index = ['mean', 'median', 'mode', 'standard deviation', 'mean deviation', 'quartile deviation']\n",
    "ce_data = pd.DataFrame(data = c4_data, index = c4_index)"
   ]
  },
  {
   "cell_type": "code",
   "execution_count": 51,
   "id": "712751d3",
   "metadata": {},
   "outputs": [
    {
     "data": {
      "text/html": [
       "<div>\n",
       "<style scoped>\n",
       "    .dataframe tbody tr th:only-of-type {\n",
       "        vertical-align: middle;\n",
       "    }\n",
       "\n",
       "    .dataframe tbody tr th {\n",
       "        vertical-align: top;\n",
       "    }\n",
       "\n",
       "    .dataframe thead th {\n",
       "        text-align: right;\n",
       "    }\n",
       "</style>\n",
       "<table border=\"1\" class=\"dataframe\">\n",
       "  <thead>\n",
       "    <tr style=\"text-align: right;\">\n",
       "      <th></th>\n",
       "      <th>Line 1</th>\n",
       "      <th>Line 2</th>\n",
       "      <th>Line 3</th>\n",
       "    </tr>\n",
       "  </thead>\n",
       "  <tbody>\n",
       "    <tr>\n",
       "      <th>mean</th>\n",
       "      <td>238.1</td>\n",
       "      <td>240.0</td>\n",
       "      <td>242.9</td>\n",
       "    </tr>\n",
       "    <tr>\n",
       "      <th>median</th>\n",
       "      <td>240.0</td>\n",
       "      <td>240.0</td>\n",
       "      <td>240.0</td>\n",
       "    </tr>\n",
       "    <tr>\n",
       "      <th>mode</th>\n",
       "      <td>241.5</td>\n",
       "      <td>240.0</td>\n",
       "      <td>239.1</td>\n",
       "    </tr>\n",
       "    <tr>\n",
       "      <th>standard deviation</th>\n",
       "      <td>3.0</td>\n",
       "      <td>0.4</td>\n",
       "      <td>3.9</td>\n",
       "    </tr>\n",
       "    <tr>\n",
       "      <th>mean deviation</th>\n",
       "      <td>1.9</td>\n",
       "      <td>0.2</td>\n",
       "      <td>2.2</td>\n",
       "    </tr>\n",
       "    <tr>\n",
       "      <th>quartile deviation</th>\n",
       "      <td>1.0</td>\n",
       "      <td>0.1</td>\n",
       "      <td>1.7</td>\n",
       "    </tr>\n",
       "  </tbody>\n",
       "</table>\n",
       "</div>"
      ],
      "text/plain": [
       "                    Line 1  Line 2  Line 3\n",
       "mean                 238.1   240.0   242.9\n",
       "median               240.0   240.0   240.0\n",
       "mode                 241.5   240.0   239.1\n",
       "standard deviation     3.0     0.4     3.9\n",
       "mean deviation         1.9     0.2     2.2\n",
       "quartile deviation     1.0     0.1     1.7"
      ]
     },
     "execution_count": 51,
     "metadata": {},
     "output_type": "execute_result"
    }
   ],
   "source": [
    "ce_data"
   ]
  },
  {
   "cell_type": "markdown",
   "id": "870b5f22",
   "metadata": {},
   "source": [
    "q.43  which has a bell-shaped distribution?"
   ]
  },
  {
   "cell_type": "markdown",
   "id": "a6d954d9",
   "metadata": {},
   "source": [
    "Line 2"
   ]
  },
  {
   "cell_type": "markdown",
   "id": "4bfda542",
   "metadata": {},
   "source": [
    "q44. Which has the most variation?  "
   ]
  },
  {
   "cell_type": "markdown",
   "id": "c4a3784c",
   "metadata": {},
   "source": [
    "Line 3"
   ]
  },
  {
   "cell_type": "markdown",
   "id": "0db6af38",
   "metadata": {},
   "source": [
    "q45. According to the Empirical Rule, about 95% of the readings for Line 2 are between what values?"
   ]
  },
  {
   "cell_type": "code",
   "execution_count": 52,
   "id": "95fe0155",
   "metadata": {},
   "outputs": [
    {
     "name": "stdout",
     "output_type": "stream",
     "text": [
      "between 239.2 and 240.8\n"
     ]
    }
   ],
   "source": [
    "a = 240.0 - 0.8\n",
    "b = 240.0 + 0.8\n",
    "print(f'between {a} and {b}')"
   ]
  },
  {
   "cell_type": "markdown",
   "id": "0d2ac5c3",
   "metadata": {},
   "source": [
    "q46. The distribution of temperatures for which lines is positively skewed?"
   ]
  },
  {
   "cell_type": "code",
   "execution_count": 53,
   "id": "86f9678a",
   "metadata": {},
   "outputs": [],
   "source": [
    "def coeff_skew(mn, med, std_d):\n",
    "    return (3 * (mn - med)) / std_d"
   ]
  },
  {
   "cell_type": "code",
   "execution_count": 54,
   "id": "63017f08",
   "metadata": {},
   "outputs": [
    {
     "name": "stdout",
     "output_type": "stream",
     "text": [
      "line 1 -1.9000000000000057 line 2: 0.0 line 3: 0.025094102885821833\n"
     ]
    }
   ],
   "source": [
    "print(f'line 1 {coeff_skew(238.1, 240, 3.0)} line 2: {coeff_skew(240.0, 240.0, 240.0)} line 3: {coeff_skew(242.0, 240.0, 239.1)}')"
   ]
  },
  {
   "cell_type": "markdown",
   "id": "7be9c714",
   "metadata": {},
   "source": [
    "q47. for line 2 approximate the first and third quartiles."
   ]
  },
  {
   "cell_type": "code",
   "execution_count": 55,
   "id": "0792542e",
   "metadata": {},
   "outputs": [
    {
     "name": "stdout",
     "output_type": "stream",
     "text": [
      "239.9 240.1\n"
     ]
    }
   ],
   "source": [
    "print(f'{240 - 0.1} {240 + 0.1}')"
   ]
  },
  {
   "cell_type": "markdown",
   "id": "e1723e12",
   "metadata": {},
   "source": [
    "q48. for line 3, according to Chebyshev's theorem, about 89% of the temperatures will be between what two values?"
   ]
  },
  {
   "cell_type": "code",
   "execution_count": 56,
   "id": "f525aa86",
   "metadata": {},
   "outputs": [
    {
     "name": "stdout",
     "output_type": "stream",
     "text": [
      "228.3 and 251.7\n"
     ]
    }
   ],
   "source": [
    "print(f'{240 - (3 * 3.9)} and {240 + (3 * 3.9)}')"
   ]
  },
  {
   "cell_type": "markdown",
   "id": "94dfd703",
   "metadata": {},
   "source": [
    "q49. determine the coefficient of variation for line 3"
   ]
  },
  {
   "cell_type": "code",
   "execution_count": 57,
   "id": "065efe82",
   "metadata": {},
   "outputs": [],
   "source": [
    "def cv_(mean, std_d):\n",
    "    return std_d / mean"
   ]
  },
  {
   "cell_type": "code",
   "execution_count": 58,
   "id": "c0cf4f43",
   "metadata": {},
   "outputs": [],
   "source": [
    "m_l3 = ce_data['Line 3']['mean']\n",
    "std_l3 = ce_data['Line 3']['standard deviation']"
   ]
  },
  {
   "cell_type": "code",
   "execution_count": 59,
   "id": "aef50abe",
   "metadata": {},
   "outputs": [
    {
     "name": "stdout",
     "output_type": "stream",
     "text": [
      "CV for Line 3 = 1.6055990119390695%\n"
     ]
    }
   ],
   "source": [
    "print(f'CV for Line 3 = {cv_(m_l3, std_l3) * 100}%')"
   ]
  },
  {
   "cell_type": "markdown",
   "id": "33c02b58",
   "metadata": {},
   "source": [
    "q50. Determine the CE for line 1"
   ]
  },
  {
   "cell_type": "code",
   "execution_count": 60,
   "id": "09ad9df4",
   "metadata": {},
   "outputs": [
    {
     "name": "stdout",
     "output_type": "stream",
     "text": [
      "CV for Line 1 = 1.25997480050399%\n"
     ]
    }
   ],
   "source": [
    "m_l1 = ce_data['Line 1']['mean']\n",
    "std_l1 = ce_data['Line 1']['standard deviation']\n",
    "print(f'CV for Line 1 = {cv_(m_l1, std_l1) * 100}%')"
   ]
  },
  {
   "cell_type": "markdown",
   "id": "ece238d6",
   "metadata": {},
   "source": [
    "q51. Determine the variance for line 1"
   ]
  },
  {
   "cell_type": "code",
   "execution_count": 61,
   "id": "f1724f6a",
   "metadata": {},
   "outputs": [
    {
     "name": "stdout",
     "output_type": "stream",
     "text": [
      "standard deviation is the sqrt of the variance therefore it is 9.0\n"
     ]
    }
   ],
   "source": [
    "print(f'standard deviation is the sqrt of the variance therefore it is {std_l1 **2}')"
   ]
  },
  {
   "cell_type": "code",
   "execution_count": null,
   "id": "b9db26f3",
   "metadata": {},
   "outputs": [],
   "source": []
  }
 ],
 "metadata": {
  "kernelspec": {
   "display_name": "Python 3 (ipykernel)",
   "language": "python",
   "name": "python3"
  },
  "language_info": {
   "codemirror_mode": {
    "name": "ipython",
    "version": 3
   },
   "file_extension": ".py",
   "mimetype": "text/x-python",
   "name": "python",
   "nbconvert_exporter": "python",
   "pygments_lexer": "ipython3",
   "version": "3.12.3"
  }
 },
 "nbformat": 4,
 "nbformat_minor": 5
}
