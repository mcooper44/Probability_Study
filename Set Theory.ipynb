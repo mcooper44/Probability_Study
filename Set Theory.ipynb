{
 "cells": [
  {
   "cell_type": "markdown",
   "id": "a67f8342",
   "metadata": {},
   "source": [
    "### Set theory"
   ]
  },
  {
   "cell_type": "markdown",
   "id": "96f23abb",
   "metadata": {},
   "source": [
    "from Introduction to Mathematical Statistics 7th ed"
   ]
  },
  {
   "cell_type": "markdown",
   "id": "d7b6570b",
   "metadata": {},
   "source": [
    "1.2.1\n",
    "Find the union $C_{1}$ $\\cup$ $C_{2}$ and the intersection $C_{1}$ $\\cap$ $C_{2}$ of the two sets $C_{1}$ and $C_{2}$ where $C_{1}$ = {0,1,2,}, $C_{2}$ = {2,3,4}."
   ]
  },
  {
   "cell_type": "code",
   "execution_count": 2,
   "id": "eb99cf92",
   "metadata": {},
   "outputs": [
    {
     "data": {
      "text/plain": [
       "({0, 1, 2, 3, 4}, {2})"
      ]
     },
     "execution_count": 2,
     "metadata": {},
     "output_type": "execute_result"
    }
   ],
   "source": [
    "c1 = set([0,1,2])\n",
    "c2 = set([2,3,4])\n",
    "c1_u_c2 = c1.union(c2)\n",
    "c1_i_c2 = c1.intersection(c2)\n",
    "c1_u_c2, c1_i_c2"
   ]
  },
  {
   "cell_type": "code",
   "execution_count": 1,
   "id": "5ef72cac",
   "metadata": {},
   "outputs": [],
   "source": [
    "from sympy import Complement, Union, Interval, Intersection, And\n",
    "from sympy.abc import x, y, z\n",
    "from sympy import Symbol"
   ]
  },
  {
   "cell_type": "code",
   "execution_count": 2,
   "id": "9a1c8c9b",
   "metadata": {},
   "outputs": [],
   "source": [
    "from fractions import Fraction\n",
    "from sympy.printing.pretty import pretty"
   ]
  },
  {
   "cell_type": "markdown",
   "id": "1cad5861",
   "metadata": {},
   "source": [
    "1.2.2. Find the complement $C^{c}$ of the set C with respect to the space *C* if"
   ]
  },
  {
   "cell_type": "markdown",
   "id": "fd767cc6",
   "metadata": {},
   "source": [
    "(a) *C* = {x : 0 < x < 1}, C = {x : 5/8 < x < 1}"
   ]
  },
  {
   "cell_type": "code",
   "execution_count": 15,
   "id": "de6eb538",
   "metadata": {},
   "outputs": [
    {
     "data": {
      "text/latex": [
       "$\\displaystyle \\left(0, 1\\right)$"
      ],
      "text/plain": [
       "Interval.open(0, 1)"
      ]
     },
     "execution_count": 15,
     "metadata": {},
     "output_type": "execute_result"
    }
   ],
   "source": [
    "C_space = And(0 < x, x < 1).as_set()\n",
    "C_space"
   ]
  },
  {
   "cell_type": "code",
   "execution_count": 16,
   "id": "306b5f58",
   "metadata": {},
   "outputs": [
    {
     "data": {
      "text/latex": [
       "$\\displaystyle \\left(\\frac{5}{8}, 1\\right)$"
      ],
      "text/plain": [
       "Interval.open(5/8, 1)"
      ]
     },
     "execution_count": 16,
     "metadata": {},
     "output_type": "execute_result"
    }
   ],
   "source": [
    "C = And(Fraction(5,8) < x, x < 1).as_set()\n",
    "C"
   ]
  },
  {
   "cell_type": "code",
   "execution_count": 17,
   "id": "520d79ce",
   "metadata": {},
   "outputs": [
    {
     "data": {
      "text/latex": [
       "$\\displaystyle \\left(0, \\frac{5}{8}\\right]$"
      ],
      "text/plain": [
       "Interval.Lopen(0, 5/8)"
      ]
     },
     "execution_count": 17,
     "metadata": {},
     "output_type": "execute_result"
    }
   ],
   "source": [
    "C.complement(C_space)"
   ]
  },
  {
   "cell_type": "markdown",
   "id": "30bb7342",
   "metadata": {},
   "source": [
    "(b) *C* = {(x,y,z) : $x^{2}$ + $y^{2}$ + $z^{2}$ <= 1}, C = {(x,y,z) : $x^{2}$ + $y^{2}$ + $z^{2}$ = 1 }"
   ]
  },
  {
   "cell_type": "code",
   "execution_count": 4,
   "id": "6921b127",
   "metadata": {},
   "outputs": [
    {
     "ename": "NotImplementedError",
     "evalue": "Sorry, as_set has not yet been implemented for multivariate expressions",
     "output_type": "error",
     "traceback": [
      "\u001b[31m---------------------------------------------------------------------------\u001b[39m",
      "\u001b[31mNotImplementedError\u001b[39m                       Traceback (most recent call last)",
      "\u001b[36mCell\u001b[39m\u001b[36m \u001b[39m\u001b[32mIn[4]\u001b[39m\u001b[32m, line 1\u001b[39m\n\u001b[32m----> \u001b[39m\u001b[32m1\u001b[39m C_spaceb = \u001b[43m(\u001b[49m\u001b[43mx\u001b[49m\u001b[43m*\u001b[49m\u001b[43m*\u001b[49m\u001b[32;43m2\u001b[39;49m\u001b[43m \u001b[49m\u001b[43m+\u001b[49m\u001b[43m \u001b[49m\u001b[43my\u001b[49m\u001b[43m*\u001b[49m\u001b[43m*\u001b[49m\u001b[32;43m2\u001b[39;49m\u001b[43m \u001b[49m\u001b[43m+\u001b[49m\u001b[43m \u001b[49m\u001b[43mz\u001b[49m\u001b[43m*\u001b[49m\u001b[43m*\u001b[49m\u001b[32;43m2\u001b[39;49m\u001b[43m \u001b[49m\u001b[43m<\u001b[49m\u001b[43m=\u001b[49m\u001b[43m \u001b[49m\u001b[32;43m1\u001b[39;49m\u001b[43m)\u001b[49m\u001b[43m.\u001b[49m\u001b[43mas_set\u001b[49m\u001b[43m(\u001b[49m\u001b[43m)\u001b[49m\n",
      "\u001b[36mFile \u001b[39m\u001b[32m~/v_env/housing-project/lib/python3.12/site-packages/sympy/logic/boolalg.py:180\u001b[39m, in \u001b[36mBoolean.as_set\u001b[39m\u001b[34m(self)\u001b[39m\n\u001b[32m    178\u001b[39m     \u001b[38;5;28;01mreturn\u001b[39;00m \u001b[38;5;28mself\u001b[39m._eval_as_set()\n\u001b[32m    179\u001b[39m \u001b[38;5;28;01melse\u001b[39;00m:\n\u001b[32m--> \u001b[39m\u001b[32m180\u001b[39m     \u001b[38;5;28;01mraise\u001b[39;00m \u001b[38;5;167;01mNotImplementedError\u001b[39;00m(\u001b[33m\"\u001b[39m\u001b[33mSorry, as_set has not yet been\u001b[39m\u001b[33m\"\u001b[39m\n\u001b[32m    181\u001b[39m                               \u001b[33m\"\u001b[39m\u001b[33m implemented for multivariate\u001b[39m\u001b[33m\"\u001b[39m\n\u001b[32m    182\u001b[39m                               \u001b[33m\"\u001b[39m\u001b[33m expressions\u001b[39m\u001b[33m\"\u001b[39m)\n",
      "\u001b[31mNotImplementedError\u001b[39m: Sorry, as_set has not yet been implemented for multivariate expressions"
     ]
    }
   ],
   "source": [
    "C_spaceb = (x**2 + y**2 + z**2 <= 1).as_set()"
   ]
  },
  {
   "cell_type": "markdown",
   "id": "9a25154c",
   "metadata": {},
   "source": [
    "1.2.3 List all possible arrangements of the four letters m,a,r and y.  Let $C_{1}$ be the collection of the arrangements in which y is in the last position.  Let $C_{2}$ be the collection of the arrangments in which m is in the first position.  Find the union and the intersection of $C_{1}$ and $C_{2}$."
   ]
  },
  {
   "cell_type": "code",
   "execution_count": 11,
   "id": "d250397b",
   "metadata": {},
   "outputs": [],
   "source": [
    "from itertools import permutations"
   ]
  },
  {
   "cell_type": "code",
   "execution_count": 20,
   "id": "d0f596d0",
   "metadata": {},
   "outputs": [],
   "source": [
    "c1 = set([n for n in [''.join(i) for i in list(permutations('mary'))] if n[3] == 'y'])\n",
    "c2 = set([n for n in [''.join(i) for i in list(permutations('mary'))] if n[0] == 'm'])"
   ]
  },
  {
   "cell_type": "code",
   "execution_count": 21,
   "id": "73e6475e",
   "metadata": {},
   "outputs": [
    {
     "data": {
      "text/plain": [
       "{'amry',\n",
       " 'army',\n",
       " 'mary',\n",
       " 'mayr',\n",
       " 'mray',\n",
       " 'mrya',\n",
       " 'myar',\n",
       " 'myra',\n",
       " 'ramy',\n",
       " 'rmay'}"
      ]
     },
     "execution_count": 21,
     "metadata": {},
     "output_type": "execute_result"
    }
   ],
   "source": [
    "c1.union(c2)"
   ]
  },
  {
   "cell_type": "code",
   "execution_count": 22,
   "id": "51e6fe23",
   "metadata": {},
   "outputs": [
    {
     "data": {
      "text/plain": [
       "{'mary', 'mray'}"
      ]
     },
     "execution_count": 22,
     "metadata": {},
     "output_type": "execute_result"
    }
   ],
   "source": [
    "c1.intersection(c2)"
   ]
  },
  {
   "cell_type": "markdown",
   "id": "8bae6c1b",
   "metadata": {},
   "source": [
    "1.2.4 Referring to Example 1.2.17 verify DeMorgan's Laws (1.2.1) and (1.2.2) by using Venn diagrams and then prove that the laws are true.  Generalize the laws to countable unions and intersections."
   ]
  },
  {
   "cell_type": "markdown",
   "id": "12f8ee97",
   "metadata": {},
   "source": [
    "“The complement of the union of two sets is equal to the intersection of the complements of each set.” or (A $\\cup$ B$)^{c}$ = $A^{c}$ $\\cap$ $B^{c}$"
   ]
  },
  {
   "cell_type": "code",
   "execution_count": 7,
   "id": "07d22b4d",
   "metadata": {},
   "outputs": [
    {
     "data": {
      "image/png": "[encoded data removed]",
      "text/plain": [
       "<Figure size 640x480 with 1 Axes>"
      ]
     },
     "metadata": {},
     "output_type": "display_data"
    }
   ],
   "source": [
    "import matplotlib.pyplot as plt\n",
    "from matplotlib_venn import venn2, venn3\n",
    "\n",
    "venn2((set(['A', 'U']), set(['B', 'U'])))\n",
    "plt.show()"
   ]
  },
  {
   "cell_type": "markdown",
   "id": "baf1781f",
   "metadata": {},
   "source": [
    "De Morgan’s Law includes two parts: ¬(A ∪ B) = ¬A ∩ ¬B and ¬(A ∩ B) = ¬A ∪ ¬B.\n",
    "\n",
    "Let’s prove ¬(A ∪ B) = ¬A ∩ ¬B. Assume an element x that is not in A ∪ B.\n",
    "\n",
    "If x is not in A ∪ B, then x is neither in A nor in B.\n",
    "\n",
    "By the definition of complement, if x is not in A and not in B, then x is in ¬A and in ¬B.\n",
    "\n",
    "Since x is in both ¬A and ¬B, x is in ¬A ∩ ¬B. Thus, we’ve shown ¬(A ∪ B) = ¬A ∩ ¬B."
   ]
  },
  {
   "cell_type": "markdown",
   "id": "4cf5d1e5",
   "metadata": {},
   "source": [
    "https://people.revoledu.com/kardi/tutorial/Python/SetTheoryPython.html#De_Morgans_laws"
   ]
  },
  {
   "cell_type": "code",
   "execution_count": 10,
   "id": "a4e5127d",
   "metadata": {},
   "outputs": [],
   "source": [
    "A = {'a','b','c','d','e'}\n",
    "B = {'d','e','f','g','b'}\n",
    "C = {'d','h','i','a','f'}\n",
    "E = set()\n",
    "U = E.union(A,B,C)"
   ]
  },
  {
   "cell_type": "code",
   "execution_count": 11,
   "id": "2dde5720",
   "metadata": {},
   "outputs": [
    {
     "name": "stdout",
     "output_type": "stream",
     "text": [
      "is U-(A|B)==(U-A)&(U-B) ? True\n",
      "is U-(A&B)==(U-A)|(U-B) ? True\n",
      "is -(A|B)==(-A)&(-B) ? True\n",
      "is -(A&B)==(-A)|(-B) ? True\n"
     ]
    }
   ],
   "source": [
    "print('is U-(A|B)==(U-A)&(U-B) ?', U-(A|B)==(U-A)&(U-B))\n",
    "print('is U-(A&B)==(U-A)|(U-B) ?', U-(A&B)==(U-A)|(U-B))\n",
    "print('is -(A|B)==(-A)&(-B) ?', not (A|B)==(not A)&(not B))  # this is logical, not set\n",
    "print('is -(A&B)==(-A)|(-B) ?', not (A&B)==(not A)|(not B))  # this is logical, not set\n",
    "\n"
   ]
  },
  {
   "cell_type": "code",
   "execution_count": 1,
   "id": "ed4b9b1d",
   "metadata": {},
   "outputs": [
    {
     "data": {
      "image/png": "[encoded data removed]",
      "text/plain": [
       "<Figure size 640x480 with 1 Axes>"
      ]
     },
     "metadata": {},
     "output_type": "display_data"
    }
   ],
   "source": [
    "# library\n",
    "import matplotlib.pyplot as plt\n",
    "from matplotlib_venn import venn2\n",
    "\n",
    "# Use the venn2 function\n",
    "venn2(subset(10, 5, 2), set_labels = ('Group A', 'Group B'))\n",
    "plt.show()\n"
   ]
  },
  {
   "cell_type": "code",
   "execution_count": null,
   "id": "fab3fac7",
   "metadata": {},
   "outputs": [],
   "source": []
  }
 ],
 "metadata": {
  "kernelspec": {
   "display_name": "housing-project",
   "language": "python",
   "name": "housing-project"
  },
  "language_info": {
   "codemirror_mode": {
    "name": "ipython",
    "version": 3
   },
   "file_extension": ".py",
   "mimetype": "text/x-python",
   "name": "python",
   "nbconvert_exporter": "python",
   "pygments_lexer": "ipython3",
   "version": "3.12.3"
  }
 },
 "nbformat": 4,
 "nbformat_minor": 5
}
