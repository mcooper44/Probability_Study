{
 "cells": [
  {
   "cell_type": "code",
   "execution_count": null,
   "id": "0b3809d5",
   "metadata": {},
   "outputs": [],
   "source": [
    "import scipy.stats as stats\n",
    "import numpy as np\n",
    "import matplotlib.pyplot as plt"
   ]
  },
  {
   "cell_type": "markdown",
   "id": "7587e05f",
   "metadata": {},
   "source": [
    "## Statistical Techniques in Business and Economics 10th edition"
   ]
  },
  {
   "cell_type": "markdown",
   "id": "beea3267",
   "metadata": {},
   "source": [
    "#### by Robert D. Mason, Douglas A. Lind, William G. Marchal"
   ]
  },
  {
   "cell_type": "markdown",
   "id": "83ba4887",
   "metadata": {},
   "source": [
    "references used to format this notebook:\n",
    "https://www.cmor-faculty.rice.edu/~heinken/latex/symbols.pdf\n",
    "\n",
    "code sources:\n",
    "https://docs.scipy.org/doc/scipy/reference/generated/scipy.stats.rv_discrete.html"
   ]
  },
  {
   "cell_type": "markdown",
   "id": "eccf840a",
   "metadata": {},
   "source": [
    "### Chapter Six\n",
    "##### Discrete Probability Distributions Page 190->193"
   ]
  },
  {
   "cell_type": "markdown",
   "id": "dcad107d",
   "metadata": {},
   "source": [
    "John sells new cars for Pelican Ford.  John usually sells the largest number of cars on Saturday.  They have established the following probability distribution for the number of cars they expect to sell on a particular Saturday."
   ]
  },
  {
   "cell_type": "code",
   "execution_count": null,
   "id": "04b2bc81",
   "metadata": {},
   "outputs": [],
   "source": [
    "xk = np.arange(5)\n",
    "pk = (0.1, 0.2, 0.3, 0.3, 0.1)\n",
    "\n",
    "custm = stats.rv_discrete(name='p190', values=(xk, pk))"
   ]
  },
  {
   "cell_type": "code",
   "execution_count": null,
   "id": "2f51231d",
   "metadata": {},
   "outputs": [],
   "source": [
    "fig, ax = plt.subplots(1, 1)\n",
    "ax.plot(xk, custm.pmf(xk), 'ro', ms=12, mec='r')\n",
    "ax.vlines(xk, 0, custm.pmf(xk), colors='r', lw=4)\n",
    "plt.show()"
   ]
  },
  {
   "cell_type": "markdown",
   "id": "0cf68ae6",
   "metadata": {},
   "source": [
    "1. What type of distribution is this?\n",
    "2. On a typical Saturday, how many cars should John expect to sell?\n",
    "3. What is the variance of this distribution?"
   ]
  },
  {
   "cell_type": "markdown",
   "id": "6e52fc97",
   "metadata": {},
   "source": [
    "1. This is a discrete probability distribution.  John expects to sell within a certain range; they do not expect to sell 5 cars or 50 cars.  Further, they cannot sell half a car.  They only sell 0, 1, 2, 3, or 4 cars and cannot expect to sell both 3 and 4 cars on the same day."
   ]
  },
  {
   "cell_type": "markdown",
   "id": "771aab20",
   "metadata": {},
   "source": [
    "2. How many should John expect to sell?\n",
    "\n",
    "$ \\mu = E(x) = \\sum[xP(x)] $"
   ]
  },
  {
   "cell_type": "code",
   "execution_count": null,
   "id": "8461b00e",
   "metadata": {},
   "outputs": [],
   "source": [
    "# on a typical Saturday\n",
    "typical = custm.mean()\n",
    "typical"
   ]
  },
  {
   "cell_type": "markdown",
   "id": "5d0e0a6a",
   "metadata": {},
   "source": [
    "2. What is the variance of this distribution?\n",
    "\n",
    "$ variance = (x-\\mu)^2P(x) $\n",
    "\n",
    "or \n",
    "\n",
    "$ \\sigma^2 = \\sum x^2P(x) - \\mu^2 $"
   ]
  },
  {
   "cell_type": "code",
   "execution_count": null,
   "id": "040df806",
   "metadata": {},
   "outputs": [],
   "source": [
    "sales_var = custm.var()\n",
    "sales_var"
   ]
  },
  {
   "cell_type": "markdown",
   "id": "09672e06",
   "metadata": {},
   "source": [
    "### Exercises p192"
   ]
  },
  {
   "cell_type": "markdown",
   "id": "89b3e40d",
   "metadata": {},
   "source": [
    "1. compute the meand and variance of the following discrete probability distribution.\n",
    "\n",
    "<table>\n",
    "<tr>\n",
    "    <th>x</th>\n",
    "    <th>P(x)</th>\n",
    "</tr>\n",
    "\n",
    "<tr>\n",
    "    <td>0</td> \n",
    "    <td>.2</td> \n",
    "</tr>\n",
    "\n",
    "<tr>\n",
    "    <td>1</td> \n",
    "    <td>.4</td> \n",
    "</tr>\n",
    "\n",
    "<tr>\n",
    "    <td>2</td> \n",
    "    <td>.3</td> \n",
    "</tr>\n",
    "    \n",
    "<tr>\n",
    "    <td>3</td> \n",
    "    <td>.1</td> \n",
    "</tr>\n",
    "</table>"
   ]
  },
  {
   "cell_type": "code",
   "execution_count": null,
   "id": "389c47ac",
   "metadata": {},
   "outputs": [],
   "source": [
    "ex1r = np.arange(4)\n",
    "ex1d = (0.2, 0.4, 0.3, 0.1)\n",
    "\n",
    "ex1a = stats.rv_discrete(name='ex1answer', values=(ex1r, ex1d))"
   ]
  },
  {
   "cell_type": "code",
   "execution_count": null,
   "id": "8fb6da62",
   "metadata": {},
   "outputs": [],
   "source": [
    "ex1_mean = ex1a.mean()\n",
    "ex1_mean"
   ]
  },
  {
   "cell_type": "code",
   "execution_count": null,
   "id": "2c7023ff",
   "metadata": {},
   "outputs": [],
   "source": [
    "ex1_var = ex1a.var()\n",
    "ex1_var"
   ]
  },
  {
   "cell_type": "markdown",
   "id": "50105433",
   "metadata": {},
   "source": [
    "5. Fran Woodword is the owner and manager of Fran's Truck Stop.  Fran offers free refills on all coffee orders.  They gathered the following information on the number of coffee refills. Compute the mean, variance, and standard deviation for the distribution of number of refills. \n",
    "\n",
    "<table>\n",
    "<tr>\n",
    "    <th>Refills</th>\n",
    "    <th>Percent</th>\n",
    "</tr>\n",
    "\n",
    "<tr>\n",
    "    <td>0</td> \n",
    "    <td>30</td> \n",
    "</tr>\n",
    "\n",
    "<tr>\n",
    "    <td>1</td> \n",
    "    <td>40</td> \n",
    "</tr>\n",
    "\n",
    "<tr>\n",
    "    <td>2</td> \n",
    "    <td>20</td> \n",
    "</tr>\n",
    "    \n",
    "<tr>\n",
    "    <td>3</td> \n",
    "    <td>10</td> \n",
    "</tr>\n",
    "</table>"
   ]
  },
  {
   "cell_type": "code",
   "execution_count": null,
   "id": "e7409ace",
   "metadata": {},
   "outputs": [],
   "source": [
    "ex_q5_r = np.arange(4) # range\n",
    "ex_q5_d = (0.3, 0.4, 0.2, 0.1) # distribution\n",
    "\n",
    "ex_q5_a = stats.rv_discrete(name='ex_q5answer', values=(ex_q5_r, ex_q5_d))"
   ]
  },
  {
   "cell_type": "code",
   "execution_count": null,
   "id": "09d39c68",
   "metadata": {},
   "outputs": [],
   "source": [
    "fig, ax = plt.subplots(1, 1)\n",
    "ax.plot(ex_q5_r, ex_q5_a.pmf(ex_q5_r), 'ro', ms=12, mec='r')\n",
    "ax.vlines(ex_q5_r, 0, ex_q5_a.pmf(ex_q5_r), colors='r', lw=4)\n",
    "plt.show()"
   ]
  },
  {
   "cell_type": "code",
   "execution_count": null,
   "id": "0e3df2ec",
   "metadata": {},
   "outputs": [],
   "source": [
    "ex_q5_mean = ex_q5_a.mean()\n",
    "ex_q5_var = ex_q5_a.var()\n",
    "ex_q5_std = ex_q5_var**0.5\n",
    "print(f'the mean = {ex_q5_mean} the variance = {round(ex_q5_var,2)} and the standard deviation = {round(ex_q5_std,2)}')"
   ]
  },
  {
   "cell_type": "markdown",
   "id": "b2cb1f31",
   "metadata": {},
   "source": [
    " 7. The following table lists the probability distribution for cash prizes in a lottery conducted at Lawson's Department Store\n",
    "\n",
    "<table>\n",
    "<tr>\n",
    "    <th>Prize ($)</th>\n",
    "    <th>Probability</th>\n",
    "</tr>\n",
    "\n",
    "<tr>\n",
    "    <td>0</td> \n",
    "    <td>.45</td> \n",
    "</tr>\n",
    "\n",
    "<tr>\n",
    "    <td>10</td> \n",
    "    <td>.3</td> \n",
    "</tr>\n",
    "\n",
    "<tr>\n",
    "    <td>100</td> \n",
    "    <td>.2</td> \n",
    "</tr>\n",
    "    \n",
    "<tr>\n",
    "    <td>500</td> \n",
    "    <td>.05</td> \n",
    "</tr>\n",
    "</table>\n",
    " "
   ]
  },
  {
   "cell_type": "code",
   "execution_count": null,
   "id": "fe0abef1",
   "metadata": {},
   "outputs": [],
   "source": [
    "ex_q7_r = (0,10,100,500) # cash prizes\n",
    "ex_q7_d = (0.45, 0.3, 0.2, 0.05) # distribution\n",
    "\n",
    "ex_q7_a = stats.rv_discrete(name='ex_q7answer', values=(ex_q7_r, ex_q7_d))"
   ]
  },
  {
   "cell_type": "code",
   "execution_count": null,
   "id": "ce072284",
   "metadata": {},
   "outputs": [],
   "source": [
    "fig, ax = plt.subplots(1, 1)\n",
    "ax.plot(ex_q7_r, ex_q7_a.pmf(ex_q7_r), 'ro', ms=12, mec='r')\n",
    "ax.vlines(ex_q7_r, 0, ex_q7_a.pmf(ex_q7_r), colors='r', lw=4)\n",
    "plt.show()"
   ]
  },
  {
   "cell_type": "markdown",
   "id": "6b79eb62",
   "metadata": {},
   "source": [
    "If you buy a single ticket, what is the probability that you can win:\n",
    "<ol type=\"a\">\n",
    "  <li>Exactly \\$100 </li>\n",
    "  <li>At least \\$10 </li>\n",
    "  <li>No more than \\$100 </li>\n",
    "  <li>Compute the mean, variance, and standard deviation of this distribution.</li>\n",
    "</ol>"
   ]
  },
  {
   "cell_type": "code",
   "execution_count": null,
   "id": "80761030",
   "metadata": {},
   "outputs": [],
   "source": [
    "# Exactly $100\n",
    "q7_1 = ex_q7_a.pmf(100)\n",
    "q7_1"
   ]
  },
  {
   "cell_type": "code",
   "execution_count": null,
   "id": "b284c23f",
   "metadata": {},
   "outputs": [],
   "source": [
    "# At elast $10\n",
    "q7_2 = ex_q7_a.cdf(10)\n",
    "q7_2"
   ]
  },
  {
   "cell_type": "code",
   "execution_count": null,
   "id": "721bb9ab",
   "metadata": {},
   "outputs": [],
   "source": [
    "# No more than $100\n",
    "q7_3 = ex_q7_a.cdf(100)\n",
    "q7_3"
   ]
  },
  {
   "cell_type": "code",
   "execution_count": null,
   "id": "4d97758d",
   "metadata": {},
   "outputs": [],
   "source": [
    "# Mean, Variance, and standard deviation\n",
    "q7_4_m = ex_q7_a.mean()\n",
    "q7_4_var = ex_q7_a.var()\n",
    "q7_4_std_dev = q7_4_var**0.5\n",
    "print(f'the mean = {q7_4_m} variance = {q7_4_var} standard devaition = {round(q7_4_std_dev,2)}')"
   ]
  }
 ],
 "metadata": {
  "kernelspec": {
   "display_name": "Python 3 (ipykernel)",
   "language": "python",
   "name": "python3"
  },
  "language_info": {
   "codemirror_mode": {
    "name": "ipython",
    "version": 3
   },
   "file_extension": ".py",
   "mimetype": "text/x-python",
   "name": "python",
   "nbconvert_exporter": "python",
   "pygments_lexer": "ipython3",
   "version": "3.9.12"
  }
 },
 "nbformat": 4,
 "nbformat_minor": 5
}
