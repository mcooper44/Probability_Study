{
 "cells": [
  {
   "cell_type": "code",
   "execution_count": 6,
   "id": "3616aabd-4d35-4186-ab5b-49acb0500ddd",
   "metadata": {},
   "outputs": [],
   "source": [
    "from scipy import stats\n",
    "from statistics import NormalDist"
   ]
  },
  {
   "cell_type": "markdown",
   "id": "72cfef99-318c-43d7-b138-807d287d3a98",
   "metadata": {},
   "source": [
    "To find the z score"
   ]
  },
  {
   "cell_type": "markdown",
   "id": "ba34bd71-765a-4aff-bd2e-637e84ef9944",
   "metadata": {},
   "source": [
    "$ z = \\frac{X - \\mu}{\\sigma} $"
   ]
  },
  {
   "cell_type": "markdown",
   "id": "d0a473a5-35d2-4ddb-8fbd-0d80f33aefc2",
   "metadata": {},
   "source": [
    "Assuming a standard normal distribution of weekly income ($\\mu = 1000, \\sigma = 100$) what is the area under the normal curve between 840 and 1200?"
   ]
  },
  {
   "cell_type": "code",
   "execution_count": 38,
   "id": "dc779eb4-d340-46a6-b494-898e333a4d41",
   "metadata": {},
   "outputs": [
    {
     "data": {
      "text/plain": [
       "(-1.6, 2.0)"
      ]
     },
     "execution_count": 38,
     "metadata": {},
     "output_type": "execute_result"
    }
   ],
   "source": [
    "z_manual_1 = (840 - 1000) /  100\n",
    "z_manual_2 = (1200 -1000) /  100\n",
    "z_manual_1, z_manual_2"
   ]
  },
  {
   "cell_type": "markdown",
   "id": "ad9f18f2-06e5-45e0-b458-b2b20bf29861",
   "metadata": {},
   "source": [
    "using the statistics module of the standard library to find the Z scores"
   ]
  },
  {
   "cell_type": "code",
   "execution_count": 23,
   "id": "544d3ce1-ea7c-47d2-b2a9-b56fcfacecad",
   "metadata": {},
   "outputs": [
    {
     "data": {
      "text/plain": [
       "(-1.6, 2.0)"
      ]
     },
     "execution_count": 23,
     "metadata": {},
     "output_type": "execute_result"
    }
   ],
   "source": [
    "nml_dst_1 = NormalDist(mu=1000, sigma=100).zscore(840)\n",
    "nml_dst_2 = NormalDist(mu=1000, sigma=100).zscore(1200)\n",
    "nml_dst_1, nml_dst_2"
   ]
  },
  {
   "cell_type": "markdown",
   "id": "711e1690-b787-4054-8388-d52adb4cc5c8",
   "metadata": {},
   "source": [
    "Thus we have a range between -1.6 and 2 standard deviations of values"
   ]
  },
  {
   "cell_type": "markdown",
   "id": "ae0ebfd8-08e9-471f-b51d-012373dd7c99",
   "metadata": {},
   "source": [
    "using scipy"
   ]
  },
  {
   "cell_type": "markdown",
   "id": "db72ac1a-63f5-4e5f-81aa-ba4fd6fbe004",
   "metadata": {},
   "source": [
    "The location (loc) keyword specifies the mean. The scale (scale) keyword specifies the standard deviation."
   ]
  },
  {
   "cell_type": "code",
   "execution_count": 41,
   "id": "2cc1ab73-e15e-4521-babe-1721740543d0",
   "metadata": {},
   "outputs": [
    {
     "data": {
      "text/plain": [
       "(np.float64(0.054799291699557974), np.float64(0.9772498680518208))"
      ]
     },
     "execution_count": 41,
     "metadata": {},
     "output_type": "execute_result"
    }
   ],
   "source": [
    "p1 = stats.norm.cdf(x=840,loc=1000,scale=100)\n",
    "p2 = stats.norm.cdf(x=1200,loc=1000,scale=100)\n",
    "p1, p2"
   ]
  },
  {
   "cell_type": "markdown",
   "id": "05eb8214-d0c8-487c-9e60-8329edb56074",
   "metadata": {},
   "source": [
    "So we're starting with the cdf which is found on the z table and working backwards to find the z score..."
   ]
  },
  {
   "cell_type": "markdown",
   "id": "2f36d05d-ca1c-45cb-892d-f0ecf4855f56",
   "metadata": {},
   "source": [
    "the PPF returns the exact point where the probability of everything to the left is equal to y . This can be thought of as the percentile function since the PPF tells us the value of a given percentile of the data.\n",
    "\n",
    "some of the math is here: https://math.stackexchange.com/questions/3170171/normal-distribution-formula-for-percentile-point-function\n",
    "I think I'll let scipy do the work..."
   ]
  },
  {
   "cell_type": "markdown",
   "id": "7d0471d1-c2a8-489c-b6e2-92719d6a01ec",
   "metadata": {},
   "source": [
    "Here, we first calculate the cumulative probability 'p' of obtaining 'xcritical' value given 'mean' and 'stdev' using norm.cdf(). norm.cdf() calculates the percentage of area under a normal distribution curve from negative infinity till an 'x' value ('xritical' in this case). Then, we pass this probability to norm.ppf() to obtain the z-score corresponding to that 'x' value. norm.ppf() is percent point function which yields the (z)value corresponding to passed lower tail probability in a standard normal distributed curve."
   ]
  },
  {
   "cell_type": "code",
   "execution_count": 43,
   "id": "a868d426-f18e-4a59-9ffc-5380cea43380",
   "metadata": {},
   "outputs": [
    {
     "data": {
      "text/plain": [
       "(np.float64(-1.6000000000000003), np.float64(2.0000000000000004))"
      ]
     },
     "execution_count": 43,
     "metadata": {},
     "output_type": "execute_result"
    }
   ],
   "source": [
    "z_score1 = stats.norm.ppf(p1)\n",
    "z_score2 = stats.norm.ppf(p2)\n",
    "z_score1, z_score2"
   ]
  },
  {
   "cell_type": "markdown",
   "id": "449cb071-190d-404a-8eb7-6d61e4c6d638",
   "metadata": {},
   "source": [
    "the area under the curve can be derived by subtracting the cdf of p2 - p1"
   ]
  },
  {
   "cell_type": "code",
   "execution_count": 46,
   "id": "6945f46e-3832-4f31-adca-be4f2ca8bcf0",
   "metadata": {},
   "outputs": [
    {
     "data": {
      "text/plain": [
       "np.float64(0.9224505763522628)"
      ]
     },
     "execution_count": 46,
     "metadata": {},
     "output_type": "execute_result"
    }
   ],
   "source": [
    "p2 - p1"
   ]
  },
  {
   "cell_type": "markdown",
   "id": "283586f3-4ee2-49d3-8f71-7b6b4a4a243a",
   "metadata": {},
   "source": [
    "therefore the area under the curve for a z of 2.00 and -1.6 represents 92% of the distribution"
   ]
  }
 ],
 "metadata": {
  "kernelspec": {
   "display_name": "Python 3 (ipykernel)",
   "language": "python",
   "name": "python3"
  },
  "language_info": {
   "codemirror_mode": {
    "name": "ipython",
    "version": 3
   },
   "file_extension": ".py",
   "mimetype": "text/x-python",
   "name": "python",
   "nbconvert_exporter": "python",
   "pygments_lexer": "ipython3",
   "version": "3.12.2"
  }
 },
 "nbformat": 4,
 "nbformat_minor": 5
}
