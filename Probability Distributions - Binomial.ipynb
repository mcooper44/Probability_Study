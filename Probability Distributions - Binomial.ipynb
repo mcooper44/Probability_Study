{
 "cells": [
  {
   "cell_type": "code",
   "execution_count": null,
   "id": "53194699",
   "metadata": {},
   "outputs": [],
   "source": [
    "import scipy.stats as stats"
   ]
  },
  {
   "cell_type": "markdown",
   "id": "f4e2841f",
   "metadata": {},
   "source": [
    "Borrowed from: http://bartlettstp.weebly.com/uploads/2/3/0/2/23023680/worksheet_binomial_distributions.pdf and\n",
    "https://www.khanacademy.org/math/ap-statistics/random-variables-ap/binomial-random-variable/e/calculating-binomial-probability\n",
    "\n",
    "A place to help keep my thoughts straight on these questions, as I find this all incredibly un-intuitive"
   ]
  },
  {
   "cell_type": "markdown",
   "id": "5386db07",
   "metadata": {},
   "source": [
    "Given the number of trials and the probability of success, determine the probability indicated:"
   ]
  },
  {
   "cell_type": "code",
   "execution_count": null,
   "id": "63be8dff",
   "metadata": {},
   "outputs": [],
   "source": [
    "#1 n = 12, p = 0.2\n",
    "# find P(2 successes)\n",
    "q1 = stats.binom.pmf(2, 12, 0.2)\n",
    "q1"
   ]
  },
  {
   "cell_type": "code",
   "execution_count": null,
   "id": "061c4f9b",
   "metadata": {},
   "outputs": [],
   "source": [
    "#2 n = 10, p = 0.4\n",
    "# find P(1 success)\n",
    "q2 = stats.binom.pmf(1, 10, 0.4)\n",
    "q2"
   ]
  },
  {
   "cell_type": "code",
   "execution_count": null,
   "id": "b952c9ec",
   "metadata": {},
   "outputs": [],
   "source": [
    "#3 n = 20, p = 0.5\n",
    "# find P(10 successes)\n",
    "q3 = stats.binom.pmf(10, 20, 0.5)\n",
    "q3"
   ]
  },
  {
   "cell_type": "code",
   "execution_count": null,
   "id": "bc8f3304",
   "metadata": {},
   "outputs": [],
   "source": [
    "# n = 5 p = .6\n",
    "# what is the probability of more than 3 successes?\n",
    "q4v1 = (5*(0.6**4)) * 0.4 + (0.6**5)\n",
    "q4v1\n",
    "q4v2 = 1 - stats.binom.cdf(3, 5, 0.6)\n",
    "q4v1, q4v2"
   ]
  },
  {
   "cell_type": "code",
   "execution_count": null,
   "id": "5fe7e032",
   "metadata": {},
   "outputs": [],
   "source": [
    "# at least 3 successes\n",
    "q4_2 = stats.binom.cdf(3, 5, 0.6)\n",
    "q4_2"
   ]
  },
  {
   "cell_type": "markdown",
   "id": "b2c0ebe1",
   "metadata": {},
   "source": [
    "Marta makes 90% of the shots they attempt.  They are going to take 3 shots.  Assuming the results are independent\n",
    "what is the probability they will make at least 2 of the 3 shots?"
   ]
  },
  {
   "cell_type": "code",
   "execution_count": null,
   "id": "9e5d8e33",
   "metadata": {},
   "outputs": [],
   "source": [
    "# this is the same as saying she makes at least 2 or 3 shots successfully \n",
    "# or 1 - the p that she makes 1 or fewer successfully \n",
    "shots = 1 - stats.binom.cdf(1, 3, 0.9)\n",
    "shots"
   ]
  },
  {
   "cell_type": "markdown",
   "id": "37214687",
   "metadata": {},
   "source": [
    "In a history class, two students write a multiple choice quiz.  There are 10 questions. Each Question has five\n",
    "possible answers.  What is the probability that:\n",
    "* Student 1 will pass the test if they guess the answer to each question.\n",
    "* Student 2 will pass the test if they study so that they have a 75% chance of answering each question correctly."
   ]
  },
  {
   "cell_type": "code",
   "execution_count": null,
   "id": "89c9cba1",
   "metadata": {},
   "outputs": [],
   "source": [
    "# Student 1\n",
    "# what is the probability they will get between 10 and 5 correct if they have a 1 in 5 chance of success?\n",
    "x = 4\n",
    "n = 10\n",
    "p = 0.2\n",
    "s1 = stats.binom.cdf(10, n, p) - stats.binom.cdf(x, n, p)\n",
    "s1"
   ]
  },
  {
   "cell_type": "code",
   "execution_count": null,
   "id": "ba35ce0f",
   "metadata": {},
   "outputs": [],
   "source": [
    "# Student 2\n",
    "# what is the p they will get between 10 and 5 correct if they have a 75% chance of success?\n",
    "x = 4\n",
    "n = 10\n",
    "p = 0.75\n",
    "s2 = stats.binom.cdf(10, n, p) - stats.binom.cdf(x, n, p)\n",
    "s2"
   ]
  },
  {
   "cell_type": "markdown",
   "id": "1a1938b0",
   "metadata": {},
   "source": [
    "A customer orders 50 components from a factory that produces at a level where 99% of products are defect free.  Find the probability that:\n",
    "* None of the components in the order are defective\n",
    "* There is at least one defective product in the order.\n",
    "* There are at least two defective products in the order."
   ]
  },
  {
   "cell_type": "code",
   "execution_count": null,
   "id": "7c64db55",
   "metadata": {},
   "outputs": [],
   "source": [
    "# Order 1\n",
    "# (0.01**0) * (0.99**50)\n",
    "o1 = stats.binom.pmf(0, 50, 0.01)\n",
    "o1_2 = stats.binom.cdf(0, 50, 0.01)\n",
    "o1, o1_2"
   ]
  },
  {
   "cell_type": "code",
   "execution_count": null,
   "id": "a99cdd1f",
   "metadata": {},
   "outputs": [],
   "source": [
    "# order 2\n",
    "# the probability of getting at least 1 is 1 - the probability of getting no defective products\n",
    "o2 = 1 - o1\n",
    "o2_2 = stats.binom.cdf(49, 50, 0.99) # or the p of getting 49/50 with no defects\n",
    "o2, o2_2"
   ]
  },
  {
   "cell_type": "code",
   "execution_count": null,
   "id": "feacf600",
   "metadata": {},
   "outputs": [],
   "source": [
    "# order 3 = the probability of geeting at least 2 defective, or the probability of getting 48/50 not defective\n",
    "o3 = stats.binom.cdf(48, 50, 0.99)\n",
    "o3"
   ]
  },
  {
   "cell_type": "markdown",
   "id": "84abb7cc",
   "metadata": {},
   "source": [
    "A small school of 800 students has a 10% rate of left handedness.  If we take a sample of 4 students, what is the\n",
    "probability that exactly 2 of the 4 will be left handed?"
   ]
  },
  {
   "cell_type": "code",
   "execution_count": null,
   "id": "328f9258",
   "metadata": {},
   "outputs": [],
   "source": [
    "lh = stats.binom.pmf(2, 4, 0.1)\n",
    "lh"
   ]
  },
  {
   "cell_type": "markdown",
   "id": "42376a18",
   "metadata": {},
   "source": [
    "Suppose 80% of the trees in a forest of 300 are infected with a virus.  Taking a sample of 5 trees what is the \n",
    "probability that exactly 2 of the 5 trees have the virus?"
   ]
  },
  {
   "cell_type": "code",
   "execution_count": null,
   "id": "0d348206",
   "metadata": {},
   "outputs": [],
   "source": [
    "tree = stats.binom.pmf(2, 5, 0.8)\n",
    "tree"
   ]
  },
  {
   "cell_type": "markdown",
   "id": "77d120ab",
   "metadata": {},
   "source": [
    "The probability that Tim will sink a shot is 70%.  If Tim attempts 30 shots, what is the probability that\n",
    "* he sinks exactly 21 shots\n",
    "* he sinks at least 21 shots\n",
    "* he sinks at most 21 shots\n",
    "* he sinks between 18 and 20 shots, inclusive"
   ]
  },
  {
   "cell_type": "code",
   "execution_count": null,
   "id": "81dc2ce6",
   "metadata": {},
   "outputs": [],
   "source": [
    "t_n, t_p = 30, 0.7"
   ]
  },
  {
   "cell_type": "code",
   "execution_count": null,
   "id": "be23d72a",
   "metadata": {},
   "outputs": [],
   "source": [
    "# Tim 1\n",
    "t1 = stats.binom.pmf(21, t_n, t_p)\n",
    "t1"
   ]
  },
  {
   "cell_type": "code",
   "execution_count": null,
   "id": "08aaad07",
   "metadata": {},
   "outputs": [],
   "source": [
    "# Tim 2 - at least 21 i.e 21 or more\n",
    "t2 = 1 - stats.binom.cdf(20, t_n, t_p)\n",
    "t2"
   ]
  },
  {
   "cell_type": "code",
   "execution_count": null,
   "id": "bf353f5e",
   "metadata": {},
   "outputs": [],
   "source": [
    "# Tim 3 - no more than 21 shots.  i.e. 21 or less shots\n",
    "t3 = stats.binom.cdf(21, t_n, t_p)\n",
    "t3"
   ]
  },
  {
   "cell_type": "code",
   "execution_count": null,
   "id": "3035ec7b",
   "metadata": {},
   "outputs": [],
   "source": [
    "# Tim 4 - sinks between 18 and 20 inclusive.  i.e. p(20 or fewer) - p(17 or fewer)\n",
    "t4 = stats.binom.cdf(20, t_n, t_p) - stats.binom.cdf(17, t_n, t_p)\n",
    "t4"
   ]
  }
 ],
 "metadata": {
  "kernelspec": {
   "display_name": "Python 3 (ipykernel)",
   "language": "python",
   "name": "python3"
  },
  "language_info": {
   "codemirror_mode": {
    "name": "ipython",
    "version": 3
   },
   "file_extension": ".py",
   "mimetype": "text/x-python",
   "name": "python",
   "nbconvert_exporter": "python",
   "pygments_lexer": "ipython3",
   "version": "3.9.12"
  }
 },
 "nbformat": 4,
 "nbformat_minor": 5
}
